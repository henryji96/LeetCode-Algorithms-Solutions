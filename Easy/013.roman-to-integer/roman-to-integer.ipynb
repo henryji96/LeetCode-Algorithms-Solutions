{
 "cells": [
  {
   "cell_type": "code",
   "execution_count": 22,
   "metadata": {},
   "outputs": [],
   "source": [
    "class Solution:\n",
    "    def romanToInt(self, s):\n",
    "        \"\"\"\n",
    "        :type s: str\n",
    "        :rtype: int\n",
    "        \"\"\"\n",
    "        d = {\n",
    "            'I': 1, 'V': 5, 'X': 10,\n",
    "            'L': 50, 'C': 100, 'D': 500, 'M': 1000,\n",
    "            'IV': 4, 'IX': 9, 'XL': 40, 'XC': 90,\n",
    "            'CD': 400, 'CM': 900\n",
    "        }\n",
    "        ans = 0\n",
    "        isTwo = 0\n",
    "        for i,romanNumeral in enumerate(s):\n",
    "            if((i+1 )< len(s)):\n",
    "                if((s[i]+s[i+1]) in d):\n",
    "                    ans += d[s[i]+s[i+1]] \n",
    "                    isTwo = 1\n",
    "                    continue\n",
    "            if (s[i] in d) and isTwo == 0:\n",
    "                ans += d[s[i]]\n",
    "            else:\n",
    "                isTwo = 0\n",
    "      \n",
    "        return ans\n",
    "            \n",
    "        \n",
    "        "
   ]
  },
  {
   "cell_type": "code",
   "execution_count": 24,
   "metadata": {},
   "outputs": [
    {
     "data": {
      "text/plain": [
       "5"
      ]
     },
     "execution_count": 24,
     "metadata": {},
     "output_type": "execute_result"
    }
   ],
   "source": [
    "a = \"IVI\"\n",
    "s = Solution()\n",
    "s.romanToInt(a)"
   ]
  },
  {
   "cell_type": "code",
   "execution_count": 17,
   "metadata": {},
   "outputs": [
    {
     "data": {
      "text/plain": [
       "True"
      ]
     },
     "execution_count": 17,
     "metadata": {},
     "output_type": "execute_result"
    }
   ],
   "source": [
    "        d = {\n",
    "            'I': 1, 'V': 5, 'X': 10,\n",
    "            'L': 50, 'C': 100, 'D': 500, 'M': 1000,\n",
    "            'IV': 4, 'IX': 9, 'XL': 40, 'XC': 90,\n",
    "            'CD': 400, 'CM': 900\n",
    "        }\n",
    "a[1] in d"
   ]
  },
  {
   "cell_type": "code",
   "execution_count": null,
   "metadata": {},
   "outputs": [],
   "source": []
  }
 ],
 "metadata": {
  "kernelspec": {
   "display_name": "Python 3",
   "language": "python",
   "name": "python3"
  },
  "language_info": {
   "codemirror_mode": {
    "name": "ipython",
    "version": 3
   },
   "file_extension": ".py",
   "mimetype": "text/x-python",
   "name": "python",
   "nbconvert_exporter": "python",
   "pygments_lexer": "ipython3",
   "version": "3.6.5"
  }
 },
 "nbformat": 4,
 "nbformat_minor": 2
}

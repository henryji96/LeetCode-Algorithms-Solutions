{
 "cells": [
  {
   "cell_type": "code",
   "execution_count": 69,
   "metadata": {},
   "outputs": [
    {
     "name": "stdout",
     "output_type": "stream",
     "text": [
      "-321\n"
     ]
    }
   ],
   "source": [
    "x = -123\n",
    "flag = 0\n",
    "result = []\n",
    "reverseInt = 0\n",
    "\n",
    "\n",
    "if(x < 0):\n",
    "    flag = 1\n",
    "    \n",
    "temp = abs(x)\n",
    "\n",
    "while(temp != 0):\n",
    "    result.append(temp % 10)\n",
    "    temp = int(temp / 10)\n",
    "    \n",
    "for i in range(len(result)):\n",
    "    reverseInt += result[i]*(10**(len(result)-i-1))\n",
    "\n",
    "\n",
    "if ((flag == 0) & (reverseInt <= 2**31-1)):\n",
    "    print(reverseInt)\n",
    "elif ((flag == 1) & ((-reverseInt) >= -2**31-1)):\n",
    "    print(-reverseInt)\n",
    "else:\n",
    "    print(0)"
   ]
  },
  {
   "cell_type": "code",
   "execution_count": null,
   "metadata": {},
   "outputs": [],
   "source": []
  }
 ],
 "metadata": {
  "kernelspec": {
   "display_name": "Python 3",
   "language": "python",
   "name": "python3"
  },
  "language_info": {
   "codemirror_mode": {
    "name": "ipython",
    "version": 3
   },
   "file_extension": ".py",
   "mimetype": "text/x-python",
   "name": "python",
   "nbconvert_exporter": "python",
   "pygments_lexer": "ipython3",
   "version": "3.6.5"
  }
 },
 "nbformat": 4,
 "nbformat_minor": 2
}

{
 "cells": [
  {
   "cell_type": "code",
   "execution_count": 10,
   "metadata": {},
   "outputs": [],
   "source": [
    "class Solution:\n",
    "    def countAndSay(self, n):\n",
    "        \"\"\"\n",
    "        :type n: int\n",
    "        :rtype: str\n",
    "        \"\"\"\n",
    "        ans = \"1\"\n",
    "        for i in range(1,n):\n",
    "            ans = self.sayNum(ans)\n",
    "        return ans\n",
    "    \n",
    "#     recursion   \n",
    "#     def countAndSay(self, n):\n",
    "#         \"\"\"\n",
    "#         :type n: int\n",
    "#         :rtype: str\n",
    "#         \"\"\"\n",
    "#         if n == 1:\n",
    "#             return \"1\"\n",
    "#         return self.sayNum(self.countAndSay1(n - 1))\n",
    "            \n",
    "    \n",
    "    def sayNum(self, nums):\n",
    "        \n",
    "        \n",
    "        numsStr = str(nums)\n",
    "        cnt = 1\n",
    "        prevNum = numsStr[0]\n",
    "        ans = \"\"\n",
    "        \n",
    "        if(len(numsStr) == 1):\n",
    "            return \"1\" + numsStr\n",
    "        \n",
    "        for i in range(1, len(numsStr)):\n",
    "            if(numsStr[i] == numsStr[i-1]):\n",
    "                cnt = cnt + 1\n",
    "            else:\n",
    "                ans = ans + str(cnt) + numsStr[i-1]\n",
    "                cnt = 1\n",
    "            if(i == len(numsStr)-1):\n",
    "                ans = ans + str(cnt) + numsStr[i] \n",
    "        return ans\n",
    "    \n",
    "            \n",
    "             \n",
    "\n",
    "            \n",
    "            \n",
    "            \n",
    "            "
   ]
  },
  {
   "cell_type": "code",
   "execution_count": 11,
   "metadata": {},
   "outputs": [
    {
     "data": {
      "text/plain": [
       "'111221'"
      ]
     },
     "execution_count": 11,
     "metadata": {},
     "output_type": "execute_result"
    }
   ],
   "source": [
    "s = Solution()\n",
    "s.countAndSay2(5)"
   ]
  },
  {
   "cell_type": "code",
   "execution_count": null,
   "metadata": {},
   "outputs": [],
   "source": []
  },
  {
   "cell_type": "code",
   "execution_count": null,
   "metadata": {},
   "outputs": [],
   "source": []
  }
 ],
 "metadata": {
  "kernelspec": {
   "display_name": "Python 3",
   "language": "python",
   "name": "python3"
  },
  "language_info": {
   "codemirror_mode": {
    "name": "ipython",
    "version": 3
   },
   "file_extension": ".py",
   "mimetype": "text/x-python",
   "name": "python",
   "nbconvert_exporter": "python",
   "pygments_lexer": "ipython3",
   "version": "3.6.5"
  }
 },
 "nbformat": 4,
 "nbformat_minor": 2
}

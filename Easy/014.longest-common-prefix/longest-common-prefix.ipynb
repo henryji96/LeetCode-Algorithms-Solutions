{
 "cells": [
  {
   "cell_type": "code",
   "execution_count": 37,
   "metadata": {},
   "outputs": [],
   "source": [
    "class Solution:\n",
    "    def longestCommonPrefix(self, strs):\n",
    "        \"\"\"\n",
    "        :type strs: List[str]\n",
    "        :rtype: str\n",
    "        \"\"\"\n",
    "        if (len(strs)!=0):\n",
    "            smallestLen = len(strs[0]) \n",
    "        else:\n",
    "            return \"\"\n",
    "        commonPre = 0\n",
    "        \n",
    "        for s in strs:\n",
    "            if(smallestLen > len(s)):\n",
    "                smallestLen = len(s)\n",
    "\n",
    "        for i in range(0, smallestLen):\n",
    "            c = []\n",
    "            for s in strs:\n",
    "                c.append(s[i])\n",
    "           \n",
    "            if(len(set(c)) == 1):\n",
    "                commonPre += 1\n",
    "            else:\n",
    "                break\n",
    "        return strs[0][0:commonPre]\n",
    "                \n",
    "            "
   ]
  },
  {
   "cell_type": "code",
   "execution_count": 38,
   "metadata": {},
   "outputs": [],
   "source": [
    "l=['l2', 'lf','lsf','lsvs']\n",
    "l2=[]"
   ]
  },
  {
   "cell_type": "code",
   "execution_count": 40,
   "metadata": {},
   "outputs": [
    {
     "data": {
      "text/plain": [
       "''"
      ]
     },
     "execution_count": 40,
     "metadata": {},
     "output_type": "execute_result"
    }
   ],
   "source": [
    "s = Solution()\n",
    "s.longestCommonPrefix(l2)"
   ]
  },
  {
   "cell_type": "code",
   "execution_count": null,
   "metadata": {},
   "outputs": [],
   "source": []
  }
 ],
 "metadata": {
  "kernelspec": {
   "display_name": "Python 3",
   "language": "python",
   "name": "python3"
  },
  "language_info": {
   "codemirror_mode": {
    "name": "ipython",
    "version": 3
   },
   "file_extension": ".py",
   "mimetype": "text/x-python",
   "name": "python",
   "nbconvert_exporter": "python",
   "pygments_lexer": "ipython3",
   "version": "3.6.5"
  }
 },
 "nbformat": 4,
 "nbformat_minor": 2
}

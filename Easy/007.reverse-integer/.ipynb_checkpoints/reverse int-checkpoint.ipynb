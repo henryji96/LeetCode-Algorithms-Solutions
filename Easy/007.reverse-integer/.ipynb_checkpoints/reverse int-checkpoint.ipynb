{
 "cells": [
  {
   "cell_type": "code",
   "execution_count": 69,
   "metadata": {},
   "outputs": [
    {
     "name": "stdout",
     "output_type": "stream",
     "text": [
      "-321\n"
     ]
    }
   ],
   "source": [
    "x = -123\n",
    "flag = 0\n",
    "result = []\n",
    "reverseInt = 0\n",
    "\n",
    "\n",
    "if(x < 0):\n",
    "    flag = 1\n",
    "    \n",
    "temp = abs(x)\n",
    "\n",
    "while(temp != 0):\n",
    "    result.append(temp % 10)\n",
    "    temp = int(temp / 10)\n",
    "    \n",
    "for i in range(len(result)):\n",
    "    reverseInt += result[i]*(10**(len(result)-i-1))\n",
    "\n",
    "\n",
    "if ((flag == 0) & (reverseInt <= 2**31-1)):\n",
    "    print(reverseInt)\n",
    "elif ((flag == 1) & ((-reverseInt) >= -2**31-1)):\n",
    "    print(-reverseInt)\n",
    "else:\n",
    "    print(0)"
   ]
  },
  {
   "cell_type": "code",
   "execution_count": 3,
   "metadata": {},
   "outputs": [
    {
     "data": {
      "text/plain": [
       "0"
      ]
     },
     "execution_count": 3,
     "metadata": {},
     "output_type": "execute_result"
    }
   ],
   "source": [
    "class Solution(object):\n",
    "    def reverse(self, x):\n",
    "        \"\"\"\n",
    "        :type x: int\n",
    "        :rtype: int\n",
    "        \"\"\"\n",
    "        sign = x < 0 and -1 or 1\n",
    "        x = abs(x)\n",
    "        ans = 0\n",
    "        while x:\n",
    "            ans = ans * 10 + x % 10\n",
    "            x /= 10\n",
    "        return sign * ans if ans <= 0x7fffffff else 0\n",
    "    \n",
    "s = Solution()\n",
    "s.reverse(12)"
   ]
  },
  {
   "cell_type": "code",
   "execution_count": 7,
   "metadata": {},
   "outputs": [
    {
     "data": {
      "text/plain": [
       "False"
      ]
     },
     "execution_count": 7,
     "metadata": {},
     "output_type": "execute_result"
    }
   ],
   "source": [
    "3 < 0 and -1 or 1"
   ]
  },
  {
   "cell_type": "code",
   "execution_count": null,
   "metadata": {},
   "outputs": [],
   "source": []
  }
 ],
 "metadata": {
  "kernelspec": {
   "display_name": "Python 3",
   "language": "python",
   "name": "python3"
  },
  "language_info": {
   "codemirror_mode": {
    "name": "ipython",
    "version": 3
   },
   "file_extension": ".py",
   "mimetype": "text/x-python",
   "name": "python",
   "nbconvert_exporter": "python",
   "pygments_lexer": "ipython3",
   "version": "3.6.5"
  }
 },
 "nbformat": 4,
 "nbformat_minor": 2
}

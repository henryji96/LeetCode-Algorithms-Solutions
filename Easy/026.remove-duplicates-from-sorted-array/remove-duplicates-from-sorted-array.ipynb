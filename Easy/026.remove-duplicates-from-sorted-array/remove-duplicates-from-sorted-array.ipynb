{
 "cells": [
  {
   "cell_type": "code",
   "execution_count": 7,
   "metadata": {},
   "outputs": [],
   "source": [
    "class Solution:\n",
    "    def removeDuplicates(self, nums):\n",
    "        \"\"\"\n",
    "        :type nums: List[int]\n",
    "        :rtype: int\n",
    "        \"\"\"\n",
    "        rmNum = []\n",
    "        for i, val in enumerate(nums):\n",
    "            if(i > 0 and nums[i] == nums[i-1]):\n",
    "                rmNum.append(nums[i-1])\n",
    "        for val in rmNum:\n",
    "            nums.remove(val)\n",
    "                \n",
    "        return len(nums)\n",
    "    \n",
    "    def removeDuplicates2(self, nums):\n",
    "        \"\"\"\n",
    "        :type nums: List[int]\n",
    "        :rtype: int\n",
    "        \"\"\"\n",
    "        if len(nums) <= 1:\n",
    "            return len(nums)\n",
    "        slow = 0\n",
    "        for i in range(1, len(nums)):\n",
    "            if nums[i] != nums[slow]:\n",
    "                slow += 1\n",
    "                nums[slow] = nums[i]\n",
    "        return slow + 1\n",
    "    "
   ]
  },
  {
   "cell_type": "code",
   "execution_count": 10,
   "metadata": {},
   "outputs": [
    {
     "data": {
      "text/plain": [
       "[1, 2, 3, 2, 2, 3]"
      ]
     },
     "execution_count": 10,
     "metadata": {},
     "output_type": "execute_result"
    }
   ],
   "source": [
    "l = [1, 1, 1, 2, 2, 3]\n",
    "s = Solution()\n",
    "s.removeDuplicates2(l)\n",
    "l"
   ]
  },
  {
   "cell_type": "code",
   "execution_count": null,
   "metadata": {},
   "outputs": [],
   "source": []
  }
 ],
 "metadata": {
  "kernelspec": {
   "display_name": "Python 3",
   "language": "python",
   "name": "python3"
  },
  "language_info": {
   "codemirror_mode": {
    "name": "ipython",
    "version": 3
   },
   "file_extension": ".py",
   "mimetype": "text/x-python",
   "name": "python",
   "nbconvert_exporter": "python",
   "pygments_lexer": "ipython3",
   "version": "3.6.5"
  }
 },
 "nbformat": 4,
 "nbformat_minor": 2
}

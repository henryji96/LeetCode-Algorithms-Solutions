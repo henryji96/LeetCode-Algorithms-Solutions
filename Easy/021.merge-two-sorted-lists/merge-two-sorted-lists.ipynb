{
 "cells": [
  {
   "cell_type": "code",
   "execution_count": 7,
   "metadata": {},
   "outputs": [],
   "source": [
    "# Definition for singly-linked list.\n",
    "# class ListNode:\n",
    "#     def __init__(self, x):\n",
    "#         self.val = x\n",
    "#         self.next = None\n",
    "\n",
    "class Solution:\n",
    "    def mergeTwoLists(self, l1, l2):\n",
    "        \"\"\"\n",
    "        :type l1: ListNode\n",
    "        :type l2: ListNode\n",
    "        :rtype: ListNode\n",
    "        \"\"\"\n",
    "        p = ListNode(0)\n",
    "        ptemp = p\n",
    "        \n",
    "        while(l1 != None and l2 != None):\n",
    "            if(l1.val < l2.val):\n",
    "                ptemp.next = l1\n",
    "                l1 = l1.next\n",
    "            else:\n",
    "                ptemp.next = l2\n",
    "                l2 = l2.next\n",
    "            ptemp = ptemp.next\n",
    "            \n",
    "            \n",
    "        if(l1 != None):\n",
    "            ptemp.next = l1\n",
    "        else:\n",
    "            ptemp.next = l2\n",
    "            \n",
    "        return p.next\n",
    "        \n",
    "                    "
   ]
  },
  {
   "cell_type": "code",
   "execution_count": null,
   "metadata": {},
   "outputs": [],
   "source": []
  }
 ],
 "metadata": {
  "kernelspec": {
   "display_name": "Python 3",
   "language": "python",
   "name": "python3"
  },
  "language_info": {
   "codemirror_mode": {
    "name": "ipython",
    "version": 3
   },
   "file_extension": ".py",
   "mimetype": "text/x-python",
   "name": "python",
   "nbconvert_exporter": "python",
   "pygments_lexer": "ipython3",
   "version": "3.6.5"
  }
 },
 "nbformat": 4,
 "nbformat_minor": 2
}
